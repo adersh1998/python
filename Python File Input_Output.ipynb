{
 "cells": [
  {
   "cell_type": "markdown",
   "metadata": {},
   "source": [
    "# Python File I/O"
   ]
  },
  {
   "cell_type": "markdown",
   "metadata": {},
   "source": [
    "### files"
   ]
  },
  {
   "cell_type": "code",
   "execution_count": 1,
   "metadata": {
    "collapsed": true
   },
   "outputs": [],
   "source": [
    "#Files are named locations on disk to store related information. \n",
    "#They are used to permanently store data in a non-volatile memory (e.g. hard disk).\n",
    "\n",
    "#Since Random Access Memory (RAM) is volatile (which loses its data when the computer is turned off), \n",
    "#we use files for future use of the data by permanently storing them.\n",
    "\n",
    "#When we want to read from or write to a file, we need to open it first. \n",
    "#When we are done, it needs to be closed so that the resources that are tied with the file are freed.\n",
    "\n",
    "#Hence, in Python, a file operation takes place in the following order:\n",
    "\n",
    "#    Open a file\n",
    "#    Read or write (perform operation)\n",
    "#    Close the file\n"
   ]
  },
  {
   "cell_type": "markdown",
   "metadata": {},
   "source": [
    "## Opening Files in Python"
   ]
  },
  {
   "cell_type": "code",
   "execution_count": 2,
   "metadata": {
    "collapsed": true
   },
   "outputs": [],
   "source": [
    "#Python has a built-in open() function to open a file. \n",
    "#This function returns a file object, also called a handle, as it is used to read or modify the file accordingly."
   ]
  },
  {
   "cell_type": "code",
   "execution_count": null,
   "metadata": {
    "collapsed": true
   },
   "outputs": [],
   "source": [
    "f = open(\"det.csv\")    # open file in current directory\n",
    "f = open(\"C:/Python38/README.txt\")  # specifying full path"
   ]
  },
  {
   "cell_type": "code",
   "execution_count": 4,
   "metadata": {
    "collapsed": true
   },
   "outputs": [],
   "source": [
    "#We can specify the mode while opening a file. \n",
    "#In mode, we specify whether we want to read r, write w or append a to the file. \n",
    "\n",
    "#We can also specify if we want to open the file in text mode or binary mode.\n",
    "\n",
    "#The default is reading in text mode. In this mode, we get strings when reading from the file.\n",
    "\n",
    "#On the other hand, binary mode returns bytes and this is the mode to be used \n",
    "#when dealing with non-text files like images or executable files."
   ]
  },
  {
   "cell_type": "markdown",
   "metadata": {},
   "source": [
    "<img src=\"mod.jpg\">"
   ]
  },
  {
   "cell_type": "code",
   "execution_count": null,
   "metadata": {
    "collapsed": true
   },
   "outputs": [],
   "source": [
    "f = open(\"test.txt\")      # equivalent to 'r' or 'rt'\n",
    "f = open(\"test.txt\",'w')  # write in text mode\n",
    "f = open(\"img.bmp\",'r+b') # read and write in binary mode"
   ]
  },
  {
   "cell_type": "code",
   "execution_count": 5,
   "metadata": {
    "collapsed": true
   },
   "outputs": [],
   "source": [
    "#Unlike other languages, the character a does not imply the number 97 until it is encoded using ASCII \n",
    "#(or other equivalent encodings).\n",
    "\n",
    "#Moreover, the default encoding is platform dependent. In windows, it is cp1252 but utf-8 in Linux.\n",
    "\n",
    "#So, we must not also rely on the default encoding or else our code will behave differently in different platforms.\n",
    "\n",
    "#Hence, when working with files in text mode, it is highly recommended to specify the encoding type."
   ]
  },
  {
   "cell_type": "code",
   "execution_count": null,
   "metadata": {
    "collapsed": true
   },
   "outputs": [],
   "source": [
    "f = open(\"test.txt\", mode='r', encoding='utf-8')"
   ]
  },
  {
   "cell_type": "markdown",
   "metadata": {},
   "source": [
    "## Closing Files in Python"
   ]
  },
  {
   "cell_type": "code",
   "execution_count": 6,
   "metadata": {
    "collapsed": true
   },
   "outputs": [],
   "source": [
    "#When we are done with performing operations on the file, we need to properly close the file.\n",
    "\n",
    "#Closing a file will free up the resources that were tied with the file. \n",
    "#It is done using the close() method available in Python.\n",
    "\n",
    "#Python has a garbage collector to clean up unreferenced objects but we must not rely on it to close the file."
   ]
  },
  {
   "cell_type": "code",
   "execution_count": null,
   "metadata": {
    "collapsed": true
   },
   "outputs": [],
   "source": [
    "f = open(\"det.csv\", encoding ='utf-8')\n",
    "# perform file operations\n",
    "f.close()\n",
    "# output shows error because \n",
    "#{TypeError: 'encoding' is an invalid keyword argument for this function} this type of error in python 2 version only"
   ]
  },
  {
   "cell_type": "code",
   "execution_count": 8,
   "metadata": {
    "collapsed": true
   },
   "outputs": [],
   "source": [
    "#This method is not entirely safe. \n",
    "#If an exception occurs when we are performing some operation with the file, the code exits without closing the file.\n",
    "\n",
    "#A safer way is to use a try...finally block.\n",
    "#This way, we are guaranteeing that the file is properly closed even if an exception is raised that causes program flow to stop."
   ]
  },
  {
   "cell_type": "code",
   "execution_count": null,
   "metadata": {
    "collapsed": true
   },
   "outputs": [],
   "source": [
    "try:\n",
    "   f = open(\"test.txt\", encoding = 'utf-8')\n",
    "   # perform file operations\n",
    "finally:\n",
    "   f.close()"
   ]
  },
  {
   "cell_type": "code",
   "execution_count": 9,
   "metadata": {
    "collapsed": true
   },
   "outputs": [],
   "source": [
    "#The best way to close a file is by using the [with] statement. \n",
    "#This ensures that the file is closed when the block inside the with statement is exited.\n",
    "\n",
    "#We don't need to explicitly call the close() method. It is done internally."
   ]
  },
  {
   "cell_type": "code",
   "execution_count": null,
   "metadata": {
    "collapsed": true
   },
   "outputs": [],
   "source": [
    "with open(\"test.txt\", encoding = 'utf-8') as f:\n",
    "   # perform file operations"
   ]
  },
  {
   "cell_type": "markdown",
   "metadata": {},
   "source": [
    "## Writing to Files in Python"
   ]
  },
  {
   "cell_type": "code",
   "execution_count": 10,
   "metadata": {
    "collapsed": true
   },
   "outputs": [],
   "source": [
    "#In order to write into a file in Python, we need to open it in write w, append a or exclusive creation x mode.\n",
    "\n",
    "#We need to be careful with the w mode, as it will overwrite into the file if it already exists. \n",
    "#Due to this, all the previous data are erased.\n",
    "\n",
    "#Writing a string or sequence of bytes (for binary files) is done using the write() method. \n",
    "#This method returns the number of characters written to the file."
   ]
  },
  {
   "cell_type": "code",
   "execution_count": 11,
   "metadata": {
    "collapsed": true
   },
   "outputs": [],
   "source": [
    "with open(\"test.txt\",'w' encoding = 'utf-8') as f:\n",
    "   f.write(\"my first file\\n\")\n",
    "   f.write(\"This file\\n\\n\")\n",
    "   f.write(\"contains three lines\\n\")"
   ]
  },
  {
   "cell_type": "code",
   "execution_count": 12,
   "metadata": {
    "collapsed": true
   },
   "outputs": [],
   "source": [
    "#This program will create a new file named test.txt in the current directory if it does not exist. \n",
    "#If it does exist, it is overwritten.\n",
    "\n",
    "#We must include the newline characters ourselves to distinguish the different lines."
   ]
  },
  {
   "cell_type": "markdown",
   "metadata": {},
   "source": [
    "## Reading Files in Python"
   ]
  },
  {
   "cell_type": "code",
   "execution_count": 13,
   "metadata": {
    "collapsed": true
   },
   "outputs": [],
   "source": [
    "#To read a file in Python, we must open the file in reading r mode.\n",
    "\n",
    "#There are various methods available for this purpose.\n",
    "#We can use the read(size) method to read in the size number of data. \n",
    "#If the size parameter is not specified, it reads and returns up to the end of the file.\n",
    "\n",
    "#We can read the text.txt file we wrote in the above section in the following way:"
   ]
  },
  {
   "cell_type": "code",
   "execution_count": null,
   "metadata": {
    "collapsed": true
   },
   "outputs": [],
   "source": [
    " f = open(\"test.txt\",'r',encoding = 'utf-8')\n",
    " f.read(4)    # read the first 4 data\n",
    "'This'\n",
    "\n",
    " f.read(4)    # read the next 4 data\n",
    "' is '\n",
    "\n",
    " f.read()     # read in the rest till end of file\n",
    "'my first file\\nThis file\\ncontains three lines\\n'\n",
    " f.read()  # further reading returns empty sting\n",
    "''"
   ]
  },
  {
   "cell_type": "code",
   "execution_count": null,
   "metadata": {
    "collapsed": true
   },
   "outputs": [],
   "source": [
    "#We can see that the read() method returns a newline as '\\n'. \n",
    "#Once the end of the file is reached, we get an empty string on further reading.\n",
    "\n",
    "#We can change our current file cursor (position) using the seek() method. \n",
    "#Similarly, the tell() method returns our current position (in number of bytes)."
   ]
  },
  {
   "cell_type": "code",
   "execution_count": null,
   "metadata": {
    "collapsed": true
   },
   "outputs": [],
   "source": [
    "f.tell()    # get the current file position\n",
    "56\n",
    "\n",
    "f.seek(0)   # bring file cursor to initial position\n",
    "0\n",
    "\n",
    "print(f.read())  # read the entire file\n",
    "This is my first file\n",
    "This file\n",
    "contains three lines"
   ]
  },
  {
   "cell_type": "code",
   "execution_count": null,
   "metadata": {
    "collapsed": true
   },
   "outputs": [],
   "source": [
    "#We can read a file line-by-line using a for loop. This is both efficient and fast.\n",
    "\n",
    ">>> for line in f:\n",
    "...     print(line, end = '')\n",
    "...\n",
    "This is my first file\n",
    "This file\n",
    "contains three lines\n",
    "\n",
    "#In this program, the lines in the file itself include a newline character \\n.\n",
    "#So, we use the end parameter of the print() function to avoid two newlines when printing."
   ]
  },
  {
   "cell_type": "code",
   "execution_count": null,
   "metadata": {
    "collapsed": true
   },
   "outputs": [],
   "source": [
    "\n",
    "\n",
    "#Alternatively, we can use the readline() method to read individual lines of a file. \n",
    "#This method reads a file till the newline, including the newline character.\n",
    "\n",
    ">>> f.readline()\n",
    "'This is my first file\\n'\n",
    "\n",
    ">>> f.readline()\n",
    "'This file\\n'\n",
    "\n",
    ">>> f.readline()\n",
    "'contains three lines\\n'\n",
    "\n",
    ">>> f.readline()"
   ]
  },
  {
   "cell_type": "code",
   "execution_count": null,
   "metadata": {
    "collapsed": true
   },
   "outputs": [],
   "source": [
    "#lastly, the readlines() method returns a list of remaining lines of the entire file. \n",
    "#All these reading methods return empty values when the end of file (EOF) is reached.\n",
    "\n",
    ">>> f.readlines()\n",
    "['This is my first file\\n', 'This file\\n', 'contains three lines\\n']"
   ]
  },
  {
   "cell_type": "markdown",
   "metadata": {},
   "source": [
    "## Python file methods"
   ]
  },
  {
   "cell_type": "code",
   "execution_count": 19,
   "metadata": {
    "collapsed": true
   },
   "outputs": [],
   "source": [
    "#There are various methods available with the file object. Some of them have been used in the above examples.\n",
    "\n",
    "#Here is the complete list of methods in text mode with a brief description:"
   ]
  },
  {
   "cell_type": "markdown",
   "metadata": {},
   "source": [
    "<img src=\"met.jpg\">\n",
    "<img src=\"met1.jpg\">\n"
   ]
  },
  {
   "cell_type": "code",
   "execution_count": null,
   "metadata": {
    "collapsed": true
   },
   "outputs": [],
   "source": []
  }
 ],
 "metadata": {
  "kernelspec": {
   "display_name": "Python 2",
   "language": "python",
   "name": "python2"
  },
  "language_info": {
   "codemirror_mode": {
    "name": "ipython",
    "version": 2
   },
   "file_extension": ".py",
   "mimetype": "text/x-python",
   "name": "python",
   "nbconvert_exporter": "python",
   "pygments_lexer": "ipython2",
   "version": "2.7.13"
  }
 },
 "nbformat": 4,
 "nbformat_minor": 2
}
